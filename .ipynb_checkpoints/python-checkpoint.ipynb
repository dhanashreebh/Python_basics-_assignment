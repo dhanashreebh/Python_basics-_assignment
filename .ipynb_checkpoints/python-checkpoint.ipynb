{
 "cells": [
  {
   "cell_type": "markdown",
   "id": "685bcfed-2fd3-4ede-a996-f79514750e63",
   "metadata": {},
   "source": [
    "Q1)Explain key features of Python that make it popular choice of programming.\n"
   ]
  },
  {
   "cell_type": "markdown",
   "id": "96bf0c49-194d-47a6-9687-90394756554e",
   "metadata": {},
   "source": [
    "ANS: key features of Python that make it popular choice of programming are as follows:\n",
    " \n",
    "1)High-Level Language:It has simple syntax.So,it is expressive language,easy to learn,understand,write the programs.\n",
    "2)Interpreted Language:Python code is executed line by line,there is no need to compile python code which makes it easier to debug a code.\n",
    "3)Cross-Plateform:Python has capability to run on multiple plateforms such as Windows,Mac,Linux and Unix.\n",
    "4)Highly Portable:Allows developers to write a code on one plateform(Windows) and run on another(Mac).\n",
    "\n",
    "5)Object-Oriented:Python is object-oriented programing language which highlights objects,classes,inheritance,encapsulation,polymorphism.It also supports multiple programming paradigms such as procedural and functional programming.\n",
    "\n",
    "6)Free and Open Source:Python Language can be freely downloaded from its official python website.Since,its source code is open to public.So,we can download,use and share it.\n",
    "\n",
    "7)Extensive Standard Library:Python has large standard library which provides rich set of modules and functions such as file input/output,regular expressions,networks etc.So,we do not have to write code for this we can get it direct from library which saves time and effort.\n",
    "\n",
    "8)Dynamically typed:means we don't have to write datatypes such as int,float before variable.Type of variable is determined at runtime.So,we don't need to specify the type of variable explicitly.ex:a=10 no need to write int a.\n",
    "\n",
    "9)GUI Programming Support:Graphical User Interface can be made using module such as PyQt5,PyQt4,wxPython or Tkinter.PyQt5 is most popular option for creating graphical apps with Python.\n",
    "\n",
    "10)Extensive and Embeddable:python coding can be used in other programing languages such as C,C++ and vice versa.\n",
    "\n"
   ]
  },
  {
   "cell_type": "code",
   "execution_count": null,
   "id": "d071ecba-5434-4a3e-b90b-ec91f0501f2d",
   "metadata": {},
   "outputs": [],
   "source": []
  },
  {
   "cell_type": "markdown",
   "id": "d479ef76-66a1-487b-8fc5-9fed2d0d150c",
   "metadata": {},
   "source": [
    "Q2:Describe the role of predefined keywords in Python and provide examples of how they are used in a program."
   ]
  },
  {
   "cell_type": "markdown",
   "id": "604254c0-0e57-41df-adbb-adee3568155f",
   "metadata": {},
   "source": [
    "ANS:The role of predefined keywords is to define the syntax in code and structure of python language\n",
    "They are reserved words in python which cannot be used as variable name,function name and other identifiers.\n",
    "They are case sensitve."
   ]
  },
  {
   "cell_type": "code",
   "execution_count": 1,
   "id": "4f1c8fbf-9612-4fe0-9775-75c5b5b8e92d",
   "metadata": {},
   "outputs": [
    {
     "name": "stdout",
     "output_type": "stream",
     "text": [
      "\n",
      "Here is a list of the Python keywords.  Enter any keyword to get more help.\n",
      "\n",
      "False               class               from                or\n",
      "None                continue            global              pass\n",
      "True                def                 if                  raise\n",
      "and                 del                 import              return\n",
      "as                  elif                in                  try\n",
      "assert              else                is                  while\n",
      "async               except              lambda              with\n",
      "await               finally             nonlocal            yield\n",
      "break               for                 not                 \n",
      "\n"
     ]
    }
   ],
   "source": [
    "help('keywords')"
   ]
  },
  {
   "cell_type": "code",
   "execution_count": 4,
   "id": "39fb8b5d",
   "metadata": {},
   "outputs": [],
   "source": [
    "#examples:\n",
    "l=[9,\"this is my class\"]\n",
    "for i in l:\n",
    "    print(i)\n",
    "\n",
    "\n"
   ]
  },
  {
   "cell_type": "code",
   "execution_count": 8,
   "id": "b3c21bf5-da90-4eb6-b21c-b5c71496bd9a",
   "metadata": {},
   "outputs": [
    {
     "name": "stdin",
     "output_type": "stream",
     "text": [
      "enter the number 4\n"
     ]
    },
    {
     "name": "stdout",
     "output_type": "stream",
     "text": [
      "x is less than 5\n"
     ]
    }
   ],
   "source": [
    "x=int(input(\"enter the number\"))\n",
    "if x>5:\n",
    "    print(\"x is greater than 5\")\n",
    "elif x==5:\n",
    "    print(\"x is equal to 5\")\n",
    "else:\n",
    "    print(\"x is less than 5\")"
   ]
  },
  {
   "cell_type": "code",
   "execution_count": null,
   "id": "f03f4f45-2dc2-4739-9311-139f72ea2423",
   "metadata": {},
   "outputs": [],
   "source": []
  },
  {
   "cell_type": "markdown",
   "id": "97f0d90f-120c-4ad6-a969-b9d5821787cd",
   "metadata": {},
   "source": [
    "Q3:Compare and Contrast mutable and immutable objects in python with examples."
   ]
  },
  {
   "cell_type": "markdown",
   "id": "72214e94-3e38-4a3a-927e-21dd145a8201",
   "metadata": {},
   "source": [
    "Mutable objects:Mutable objects has ability to change its values after creation.\n",
    "ex:List,Dictionary,set."
   ]
  },
  {
   "cell_type": "code",
   "execution_count": 17,
   "id": "d7a391bb-3a98-4419-a659-7408c13b8451",
   "metadata": {},
   "outputs": [
    {
     "data": {
      "text/plain": [
       "[123, 'Dhanashree']"
      ]
     },
     "execution_count": 17,
     "metadata": {},
     "output_type": "execute_result"
    }
   ],
   "source": [
    "list=[123,\"Dhanashree\"]\n",
    "list"
   ]
  },
  {
   "cell_type": "code",
   "execution_count": 21,
   "id": "2302b04a-9dcc-498a-9e15-e67a3e6dff63",
   "metadata": {},
   "outputs": [
    {
     "data": {
      "text/plain": [
       "[456, 'Dhanashree']"
      ]
     },
     "execution_count": 21,
     "metadata": {},
     "output_type": "execute_result"
    }
   ],
   "source": [
    "#to change value\n",
    "list[0]=456\n",
    "list"
   ]
  },
  {
   "cell_type": "markdown",
   "id": "77f908c7-523b-4a00-9279-537ff779e19a",
   "metadata": {},
   "source": [
    "Immutable objects:Immutable objects cannot its value once they are created.\n",
    "ex:String,Tuple"
   ]
  },
  {
   "cell_type": "code",
   "execution_count": 19,
   "id": "f5f0548d-cfd4-492c-9dcb-49210d16d4f8",
   "metadata": {},
   "outputs": [
    {
     "data": {
      "text/plain": [
       "(0, 1, 2, 3)"
      ]
     },
     "execution_count": 19,
     "metadata": {},
     "output_type": "execute_result"
    }
   ],
   "source": [
    "tuple=(0,1,2,3)\n",
    "tuple"
   ]
  },
  {
   "cell_type": "code",
   "execution_count": 20,
   "id": "a86e43e0-014b-463e-a25f-494d791f090e",
   "metadata": {},
   "outputs": [
    {
     "ename": "TypeError",
     "evalue": "'tuple' object does not support item assignment",
     "output_type": "error",
     "traceback": [
      "\u001b[0;31m---------------------------------------------------------------------------\u001b[0m",
      "\u001b[0;31mTypeError\u001b[0m                                 Traceback (most recent call last)",
      "Cell \u001b[0;32mIn[20], line 1\u001b[0m\n\u001b[0;32m----> 1\u001b[0m \u001b[38;5;28;43mtuple\u001b[39;49m\u001b[43m[\u001b[49m\u001b[38;5;241;43m1\u001b[39;49m\u001b[43m]\u001b[49m\u001b[38;5;241m=\u001b[39m\u001b[38;5;241m33\u001b[39m\n\u001b[1;32m      2\u001b[0m \u001b[38;5;28mtuple\u001b[39m\n",
      "\u001b[0;31mTypeError\u001b[0m: 'tuple' object does not support item assignment"
     ]
    }
   ],
   "source": [
    "tuple[1]=33\n",
    "tuple"
   ]
  },
  {
   "cell_type": "code",
   "execution_count": null,
   "id": "1b6c450f-b987-4c00-9ec2-2e9a325d3523",
   "metadata": {},
   "outputs": [],
   "source": []
  },
  {
   "cell_type": "markdown",
   "id": "2f47cbe3-d91d-4bab-9321-61d52b95aa8c",
   "metadata": {},
   "source": [
    "Q4:Discuss Types of different operators in python and provide examples on how they are used."
   ]
  },
  {
   "cell_type": "markdown",
   "id": "bfe09c86-0147-4f00-9ed3-ac899f1d2e31",
   "metadata": {},
   "source": [
    "ANS:OPERATORS:These are special keywords to perform \n",
    "1)ARITHMETIC OPERATORS:\n",
    "ex:Addition(+),Substraction(-),multiplication(*),Division(/),Modulus(%)etc."
   ]
  },
  {
   "cell_type": "code",
   "execution_count": 31,
   "id": "ac54c2be-367e-4185-a51b-fab77922b523",
   "metadata": {},
   "outputs": [
    {
     "data": {
      "text/plain": [
       "50"
      ]
     },
     "execution_count": 31,
     "metadata": {},
     "output_type": "execute_result"
    }
   ],
   "source": [
    "a=30\n",
    "b=20\n",
    "a+b\n",
    "\n"
   ]
  },
  {
   "cell_type": "code",
   "execution_count": 32,
   "id": "5ffd001c-cfd1-4473-9c45-1a59d16b5035",
   "metadata": {},
   "outputs": [
    {
     "data": {
      "text/plain": [
       "10"
      ]
     },
     "execution_count": 32,
     "metadata": {},
     "output_type": "execute_result"
    }
   ],
   "source": [
    "a-b"
   ]
  },
  {
   "cell_type": "code",
   "execution_count": 33,
   "id": "eeba1397-d2f7-4196-bf4b-b00868bc95c2",
   "metadata": {},
   "outputs": [
    {
     "data": {
      "text/plain": [
       "600"
      ]
     },
     "execution_count": 33,
     "metadata": {},
     "output_type": "execute_result"
    }
   ],
   "source": [
    "a*b"
   ]
  },
  {
   "cell_type": "code",
   "execution_count": 34,
   "id": "1ed05d37-0923-4329-a05a-3248df8c8674",
   "metadata": {},
   "outputs": [
    {
     "data": {
      "text/plain": [
       "1.5"
      ]
     },
     "execution_count": 34,
     "metadata": {},
     "output_type": "execute_result"
    }
   ],
   "source": [
    "a/b"
   ]
  },
  {
   "cell_type": "code",
   "execution_count": 37,
   "id": "2276b5cc-f9cb-43b8-a6fc-97adb661b130",
   "metadata": {},
   "outputs": [
    {
     "data": {
      "text/plain": [
       "10"
      ]
     },
     "execution_count": 37,
     "metadata": {},
     "output_type": "execute_result"
    }
   ],
   "source": [
    "a%b\n"
   ]
  },
  {
   "cell_type": "markdown",
   "id": "795ea5c7-6b33-4653-9e08-a1ccc5d50b68",
   "metadata": {},
   "source": [
    "2)COMPARISON OPERATORS:equal to(==),greater than(>),less than(<),greater than equal to(>=),less than equal to(<=),not equal to(!=)."
   ]
  },
  {
   "cell_type": "code",
   "execution_count": 38,
   "id": "18315888-2225-4b07-a101-596e19eb00ab",
   "metadata": {},
   "outputs": [
    {
     "data": {
      "text/plain": [
       "False"
      ]
     },
     "execution_count": 38,
     "metadata": {},
     "output_type": "execute_result"
    }
   ],
   "source": [
    "A=9\n",
    "B=5\n",
    "A==B"
   ]
  },
  {
   "cell_type": "code",
   "execution_count": 39,
   "id": "4ae0a66e-c033-4e13-82d2-33e61c735d14",
   "metadata": {},
   "outputs": [
    {
     "data": {
      "text/plain": [
       "True"
      ]
     },
     "execution_count": 39,
     "metadata": {},
     "output_type": "execute_result"
    }
   ],
   "source": [
    "A>B\n"
   ]
  },
  {
   "cell_type": "code",
   "execution_count": 40,
   "id": "ac9952c1-120d-4b80-925f-3c15ab50d75a",
   "metadata": {},
   "outputs": [
    {
     "data": {
      "text/plain": [
       "False"
      ]
     },
     "execution_count": 40,
     "metadata": {},
     "output_type": "execute_result"
    }
   ],
   "source": [
    "A<B"
   ]
  },
  {
   "cell_type": "code",
   "execution_count": 41,
   "id": "a4d110db-a8ad-4977-bcf4-afa2874ebf96",
   "metadata": {},
   "outputs": [
    {
     "data": {
      "text/plain": [
       "True"
      ]
     },
     "execution_count": 41,
     "metadata": {},
     "output_type": "execute_result"
    }
   ],
   "source": [
    "A>=B"
   ]
  },
  {
   "cell_type": "code",
   "execution_count": 42,
   "id": "a1227060-74bd-4ae6-a23d-cbb93bab70be",
   "metadata": {},
   "outputs": [
    {
     "data": {
      "text/plain": [
       "False"
      ]
     },
     "execution_count": 42,
     "metadata": {},
     "output_type": "execute_result"
    }
   ],
   "source": [
    "A<=B"
   ]
  },
  {
   "cell_type": "code",
   "execution_count": 43,
   "id": "4c8a480d-f74b-47c5-8dc9-53cb31b3dc4d",
   "metadata": {},
   "outputs": [
    {
     "data": {
      "text/plain": [
       "True"
      ]
     },
     "execution_count": 43,
     "metadata": {},
     "output_type": "execute_result"
    }
   ],
   "source": [
    "A!=B\n"
   ]
  },
  {
   "cell_type": "markdown",
   "id": "fc2876f3-7cea-46c0-9724-68f731aadd3e",
   "metadata": {},
   "source": [
    "3)LOGICAL OPERATORS:AND,OR,NOT"
   ]
  },
  {
   "cell_type": "code",
   "execution_count": 44,
   "id": "63ed13e5-cda7-4021-af01-472b8ebc8ee7",
   "metadata": {},
   "outputs": [
    {
     "data": {
      "text/plain": [
       "True"
      ]
     },
     "execution_count": 44,
     "metadata": {},
     "output_type": "execute_result"
    }
   ],
   "source": [
    "x=10\n",
    "(x>7)and(x<12)\n"
   ]
  },
  {
   "cell_type": "code",
   "execution_count": 47,
   "id": "ff1cc844-d97b-46b8-8be1-23bccb29af04",
   "metadata": {},
   "outputs": [
    {
     "data": {
      "text/plain": [
       "False"
      ]
     },
     "execution_count": 47,
     "metadata": {},
     "output_type": "execute_result"
    }
   ],
   "source": [
    "y=20\n",
    "(x>30)or(x<10)"
   ]
  },
  {
   "cell_type": "code",
   "execution_count": 48,
   "id": "77827039-838e-44f5-a1b7-cbb946b25500",
   "metadata": {},
   "outputs": [
    {
     "data": {
      "text/plain": [
       "True"
      ]
     },
     "execution_count": 48,
     "metadata": {},
     "output_type": "execute_result"
    }
   ],
   "source": [
    "not((x>30)or(x<10)) #reverse of OR"
   ]
  },
  {
   "cell_type": "markdown",
   "id": "7792b220-acfe-4b25-8403-6f241ac8d6ec",
   "metadata": {},
   "source": [
    "4)ASSIGNMENT OPERATOR:=,+=,-=,*=,/=,%="
   ]
  },
  {
   "cell_type": "code",
   "execution_count": 53,
   "id": "02a06c7a-5a45-45d5-b65d-bd531cc95edd",
   "metadata": {},
   "outputs": [
    {
     "name": "stdout",
     "output_type": "stream",
     "text": [
      "11\n"
     ]
    }
   ],
   "source": [
    "X=5\n",
    "X+=6\n",
    "print(X)"
   ]
  },
  {
   "cell_type": "markdown",
   "id": "3b7681b6-ff75-4487-8362-f56c6b71f676",
   "metadata": {},
   "source": [
    "5)BITWISE OPERATOR:Bitwise AND(&),Bitwise OR(|),Bitwise XOR(^),Bitwise NOT(~),Bitwise right shift(>>),Bitwise Left(<<)"
   ]
  },
  {
   "cell_type": "code",
   "execution_count": 65,
   "id": "85d8da76-12d1-406d-8eb8-a0a5ebabc613",
   "metadata": {},
   "outputs": [
    {
     "data": {
      "text/plain": [
       "2"
      ]
     },
     "execution_count": 65,
     "metadata": {},
     "output_type": "execute_result"
    }
   ],
   "source": [
    "a=6\n",
    "b=10\n",
    "a&b"
   ]
  },
  {
   "cell_type": "code",
   "execution_count": 66,
   "id": "f6fbb96f-e5dd-4d2d-97b9-ca8011911517",
   "metadata": {},
   "outputs": [
    {
     "data": {
      "text/plain": [
       "14"
      ]
     },
     "execution_count": 66,
     "metadata": {},
     "output_type": "execute_result"
    }
   ],
   "source": [
    "a|b"
   ]
  },
  {
   "cell_type": "code",
   "execution_count": 67,
   "id": "d428b6dd-1c19-4ba5-9aed-065a207b8303",
   "metadata": {},
   "outputs": [
    {
     "data": {
      "text/plain": [
       "12"
      ]
     },
     "execution_count": 67,
     "metadata": {},
     "output_type": "execute_result"
    }
   ],
   "source": [
    "a^b"
   ]
  },
  {
   "cell_type": "code",
   "execution_count": 68,
   "id": "3b4dde74-8665-4295-851b-091637878d13",
   "metadata": {},
   "outputs": [
    {
     "data": {
      "text/plain": [
       "0"
      ]
     },
     "execution_count": 68,
     "metadata": {},
     "output_type": "execute_result"
    }
   ],
   "source": [
    "a>>b"
   ]
  },
  {
   "cell_type": "code",
   "execution_count": 69,
   "id": "1201349f-deb3-44d1-bd77-60854653c011",
   "metadata": {},
   "outputs": [
    {
     "data": {
      "text/plain": [
       "6144"
      ]
     },
     "execution_count": 69,
     "metadata": {},
     "output_type": "execute_result"
    }
   ],
   "source": [
    "a<<b"
   ]
  },
  {
   "cell_type": "code",
   "execution_count": null,
   "id": "1b860130-f37d-40b6-ba38-9630fbec0b27",
   "metadata": {},
   "outputs": [],
   "source": []
  },
  {
   "cell_type": "markdown",
   "id": "b356eb23-a857-4d14-b636-a510b102b286",
   "metadata": {},
   "source": [
    "Q5:Explain the concept of Typecasting in Python with examples.\n"
   ]
  },
  {
   "cell_type": "code",
   "execution_count": 71,
   "id": "25491704-2214-43b0-9106-1fd04e25b3e9",
   "metadata": {},
   "outputs": [
    {
     "data": {
      "text/plain": [
       "23"
      ]
     },
     "execution_count": 71,
     "metadata": {},
     "output_type": "execute_result"
    }
   ],
   "source": [
    "#ANS:TYPECASTING:It is a method to convert python variable datatype into certain datatype.\n",
    "#change string into integer\n",
    "string=\"23\"  \n",
    "a=int(string)\n",
    "a"
   ]
  },
  {
   "cell_type": "code",
   "execution_count": 72,
   "id": "3cc741b9-ba12-442e-a450-80d6fd90a7be",
   "metadata": {},
   "outputs": [
    {
     "data": {
      "text/plain": [
       "int"
      ]
     },
     "execution_count": 72,
     "metadata": {},
     "output_type": "execute_result"
    }
   ],
   "source": [
    "type(a)"
   ]
  },
  {
   "cell_type": "code",
   "execution_count": 73,
   "id": "8c6d5a26-6380-4576-ac48-217f403e936d",
   "metadata": {},
   "outputs": [
    {
     "data": {
      "text/plain": [
       "1"
      ]
     },
     "execution_count": 73,
     "metadata": {},
     "output_type": "execute_result"
    }
   ],
   "source": [
    "#float to int\n",
    "float=1.2\n",
    "a=int(float)\n",
    "a"
   ]
  },
  {
   "cell_type": "code",
   "execution_count": 74,
   "id": "de1b2f71-ed0c-4b91-aad5-1cb4755d8bb8",
   "metadata": {},
   "outputs": [
    {
     "data": {
      "text/plain": [
       "int"
      ]
     },
     "execution_count": 74,
     "metadata": {},
     "output_type": "execute_result"
    }
   ],
   "source": [
    "type(a)\n"
   ]
  },
  {
   "cell_type": "code",
   "execution_count": null,
   "id": "fad00c3e-fb36-48c2-8e6f-de82b2232147",
   "metadata": {},
   "outputs": [],
   "source": []
  },
  {
   "cell_type": "code",
   "execution_count": null,
   "id": "ffaf33f5-e549-442c-82f5-217ed31d6b2a",
   "metadata": {},
   "outputs": [],
   "source": [
    "Q6:How conditional statement work in python?Illustrate with example."
   ]
  },
  {
   "cell_type": "markdown",
   "id": "fedb9daf-964d-41d5-9925-df4ee1095e40",
   "metadata": {},
   "source": [
    "ANS:If the condition is true then if block code is execute and If condition is false else block code is executed.\n",
    "Types of conditional statement:\n",
    "1)if statement\n",
    "2)if-else statement\n",
    "3)if-elif else statement\n",
    "4)nested if-else statement\n"
   ]
  },
  {
   "cell_type": "code",
   "execution_count": 4,
   "id": "18785d63-f6f6-4c2a-bb18-2d1b4b47d8a8",
   "metadata": {},
   "outputs": [
    {
     "name": "stdout",
     "output_type": "stream",
     "text": [
      "number is greater than 0\n"
     ]
    }
   ],
   "source": [
    "#example of if statement\n",
    "x=20\n",
    "if x>0:\n",
    "    print(\"number is greater than 0\")"
   ]
  },
  {
   "cell_type": "code",
   "execution_count": 5,
   "id": "26a4d7dd-cdfe-4ac0-8bcd-7afa14c50e3b",
   "metadata": {},
   "outputs": [
    {
     "name": "stdin",
     "output_type": "stream",
     "text": [
      "enter the no 20\n"
     ]
    },
    {
     "name": "stdout",
     "output_type": "stream",
     "text": [
      "even\n"
     ]
    }
   ],
   "source": [
    "#example of if-else statement\n",
    "no=int(input(\"enter the no\"))\n",
    "if no%2==0:\n",
    "    print(\"even\")\n",
    "else:\n",
    "    print(\"odd\")"
   ]
  },
  {
   "cell_type": "code",
   "execution_count": 22,
   "id": "05f20e7a-ddf6-490b-aded-e642186497c1",
   "metadata": {},
   "outputs": [
    {
     "name": "stdin",
     "output_type": "stream",
     "text": [
      "enter your marks 89\n"
     ]
    },
    {
     "name": "stdout",
     "output_type": "stream",
     "text": [
      "grade B\n"
     ]
    }
   ],
   "source": [
    "#example of if-elif else statement\n",
    "marks=int(input(\"enter your marks\"))\n",
    "if marks>=90:\n",
    "          print(\"grade A\")\n",
    "elif 90>marks>=80:\n",
    "    print(\"grade B\")\n",
    "elif 80>marks>=60:\n",
    "    print(\"grade C\")\n",
    "else:\n",
    "    print(\"FAIL\")\n",
    "\n",
    "          \n",
    "          "
   ]
  },
  {
   "cell_type": "code",
   "execution_count": 27,
   "id": "0ddbeef7-250d-47a1-aa76-12e020eff3a8",
   "metadata": {},
   "outputs": [
    {
     "name": "stdin",
     "output_type": "stream",
     "text": [
      "enter year 400\n"
     ]
    },
    {
     "name": "stdout",
     "output_type": "stream",
     "text": [
      "leap year\n"
     ]
    }
   ],
   "source": [
    "#example of nested if-else statement\n",
    "year=int(input(\"enter year\"))\n",
    "if year%4==0:\n",
    "    if year%100!=0 or year%400==0:\n",
    "        print(\"leap year\")\n",
    "    else:\n",
    "        print(\"not leap year\")\n",
    "else:\n",
    "    print(\"not leap year\")\n",
    "    "
   ]
  },
  {
   "cell_type": "code",
   "execution_count": null,
   "id": "5db51ad3-3d9d-40cf-99cf-7cfc466de995",
   "metadata": {},
   "outputs": [],
   "source": []
  },
  {
   "cell_type": "markdown",
   "id": "5f0c1af8-972d-44f1-9361-b7f164d1e87b",
   "metadata": {},
   "source": [
    "Q7:Describe the different types of loops in python and their usecase with example."
   ]
  },
  {
   "cell_type": "markdown",
   "id": "a271498c-19d0-4aae-96c6-7aba9c74b44c",
   "metadata": {},
   "source": [
    "1)for loop:Afor loop in python is used to iterate over a sequence\n",
    "syntax:\n",
    "\n"
   ]
  },
  {
   "cell_type": "code",
   "execution_count": 28,
   "id": "2301fe35-14d5-4e76-9aca-2fa3e771b410",
   "metadata": {},
   "outputs": [
    {
     "name": "stdout",
     "output_type": "stream",
     "text": [
      "python\n",
      "1\n",
      "2\n"
     ]
    }
   ],
   "source": [
    "#iterate through a list\n",
    "x=[\"python\",1,2] #variable i is a placeholder for every item in your iterable object.\n",
    "for i in x:      #loop iterates as per number of elemnts a\n",
    "    print(i)"
   ]
  },
  {
   "cell_type": "code",
   "execution_count": 1,
   "id": "2c2c2604-e6fb-421a-8499-ee701e96fb57",
   "metadata": {},
   "outputs": [
    {
     "name": "stdout",
     "output_type": "stream",
     "text": [
      "1\n",
      "2\n",
      "3\n",
      "4\n",
      "5\n",
      "6\n"
     ]
    }
   ],
   "source": [
    "#while loop\n",
    "n=7\n",
    "i=1           #we assign value to variable\n",
    "while i<n:    #until the value of i is less than n loop continues and print the number.\n",
    "    print(i)\n",
    "    i=i+1"
   ]
  },
  {
   "cell_type": "code",
   "execution_count": 2,
   "id": "580d0238-0a71-4119-b9a5-5dab9f83b7fc",
   "metadata": {},
   "outputs": [
    {
     "name": "stdout",
     "output_type": "stream",
     "text": [
      "1\n",
      "2\n"
     ]
    }
   ],
   "source": [
    "#break statement in while loop\n",
    "n=7\n",
    "i=1\n",
    "while i<n:\n",
    "    print(i)\n",
    "    i=i+1\n",
    "    if i==3:\n",
    "        break   #if condition met,terminates the loop\n",
    "else:\n",
    "    print(\"This will be executed when while is run successfully without any break\")\n",
    "    "
   ]
  },
  {
   "cell_type": "code",
   "execution_count": 3,
   "id": "3950b6ff-f39a-419f-88ba-f5c2b5150352",
   "metadata": {},
   "outputs": [
    {
     "name": "stdout",
     "output_type": "stream",
     "text": [
      "2\n",
      "4\n",
      "5\n",
      "6\n",
      "7\n",
      "This will be executed when while is run successfully without any break\n"
     ]
    }
   ],
   "source": [
    "#continue statement in while loop\n",
    "n=7\n",
    "i=1\n",
    "while i<n:\n",
    "    i=i+1\n",
    "    if i==3:\n",
    "        continue #skips the iteration\n",
    "    print(i)\n",
    "else:\n",
    "    print(\"This will be executed when while is run successfully without any break\")\n",
    "    \n",
    "\n",
    "    "
   ]
  },
  {
   "cell_type": "code",
   "execution_count": null,
   "id": "07c2fac0-febb-4076-9608-1009aef224a2",
   "metadata": {},
   "outputs": [],
   "source": []
  }
 ],
 "metadata": {
  "kernelspec": {
   "display_name": "Python 3 (ipykernel)",
   "language": "python",
   "name": "python3"
  },
  "language_info": {
   "codemirror_mode": {
    "name": "ipython",
    "version": 3
   },
   "file_extension": ".py",
   "mimetype": "text/x-python",
   "name": "python",
   "nbconvert_exporter": "python",
   "pygments_lexer": "ipython3",
   "version": "3.10.8"
  }
 },
 "nbformat": 4,
 "nbformat_minor": 5
}
